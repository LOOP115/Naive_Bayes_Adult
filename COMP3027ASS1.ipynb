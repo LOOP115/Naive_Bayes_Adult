{
 "cells": [
  {
   "cell_type": "markdown",
   "metadata": {},
   "source": [
    "### The University of Melbourne, School of Computing and Information Systems\n",
    "# COMP30027 Machine Learning, 2022 Semester 1\n",
    "\n",
    "## Assignment 1: Naive Bayes Leaner for Adult Database\n"
   ]
  },
  {
   "cell_type": "markdown",
   "metadata": {},
   "source": [
    "**Student Name(s):** `Jiahao Chen`\n",
    "<br>\n",
    "**Student ID(s):** `1118749`"
   ]
  },
  {
   "cell_type": "markdown",
   "metadata": {},
   "source": [
    "\n",
    "\n",
    "Marking will be applied on the four functions that are defined in this notebook, and to your responses to the questions at the end of this notebook.\n",
    "\n",
    "## General info\n",
    "\n",
    "<b>Due date</b>: Friday, 8 April 2022 7pm\n",
    "\n",
    "<b>Submission method</b>: Canvas submission\n",
    "\n",
    "<b>Submission materials</b>: This iPython notebook is a template which you will use for your Assignment 1 submission. You need to only submitted the completed copy of this iPython notebook.\n",
    "\n",
    "<b>Late submissions</b>: -10% per day up to 5 days (both weekdays and weekends count). Submissions more than 5 days late will not be accepted (resul in a mark of 0).\n",
    "<ul>\n",
    "    <li>one day late, -1.0;</li>\n",
    "    <li>two days late, -2.0;</li>\n",
    "    <li>three days late, -3.0;</li>\n",
    "    <li>four days late, -4.0;</li>\n",
    "    <li>five days late, -5.0;</li>\n",
    "</ul>\n",
    "\n",
    "<b>Extensions</b>: Students who are demonstrably unable to submit a full solution in time due to medical reasons or other trauma, may apply for an extension.  In these cases, you should email <a href=\"mailto:ni.ding@unimelb.edu.au\">Ni Ding</a> as soon as possible after those circumstances arise. If you attend a GP or other health care service as a result of illness, be sure to provide a Health Professional Report (HPR) form (get it from the Special Consideration section of the Student Portal), you will need this form to be filled out if your illness develops into something that later requires a Special Consideration application to be lodged. You should scan the HPR form and send it with the extension requests.\n",
    "\n",
    "<b>Marks</b>: This assignment will be marked out of 20, and make up 20% of your overall mark for this subject.\n",
    "\n",
    "<b>Materials</b>: Use Jupyter Notebook and Python page on Canvas for information on the basic setup required for this class, including an iPython notebook viewer and the python packages NLTK, Numpy, Scipy, Matplotlib, Scikit-Learn. You can use any Python built-in packages, but do not use any other 3rd party packages; if your iPython notebook doesn't run on the marker's machine, you will lose marks. <b> You should use Python 3</b>.  \n",
    "\n",
    "\n",
    "<b>Evaluation</b>: Your iPython notebook should run end-to-end without any errors in a reasonable amount of time, and you must follow all instructions provided below, including specific implementation requirements and instructions for what needs to be printed (please avoid printing output we don't ask for). You should edit the sections below where requested, but leave the rest of the code as is. You should leave the output from running your code in the iPython notebook you submit, to assist with marking. The amount each section is worth is given in parenthesis after the instructions. \n",
    "\n",
    "You will be marked not only on the correctness of your methods, but also the quality and efficency of your code: in particular, you should be careful to use Python built-in functions and operators when appropriate and pick descriptive variable names that adhere to <a href=\"https://www.python.org/dev/peps/pep-0008/\">Python style requirements</a>. If you think it might be unclear what you are doing, you should comment your code to help the marker make sense of it. We reserve the right to deduct up to 2 marks for unreadable or exessively inefficient code.\n",
    "\n",
    "8 of the marks available for this Project will be assigned to whether the four specified Python functions work in a manner consistent with the materials from COMP30027. Any other implementation will not be directly assessed (except insofar as it is required to make these five functions work correctly).\n",
    "\n",
    "12 of the marks will be assigned to your responses to the questions, in terms of both accuracy and insightfulness. We will be looking for evidence that you have an implementation that allows you to explore the problem, but also that you have thought deeply about the data and the behaviour of the Naive Bayes classifier.\n",
    "\n",
    "<b>Updates</b>: Any major changes to the assignment will be announced via Canvas. Minor changes and clarifications will be announced on the discussion board (ED -> Assignments -> A1); we recommend you check it regularly.\n",
    "\n",
    "<b>Academic misconduct</b>: For most people, collaboration will form a natural part of the undertaking of this homework, and we encourge you to discuss it in general terms with other students. However, this ultimately is still an individual task, and so reuse of code or other instances of clear influence will be considered cheating. Please check the <a href=\"https://canvas.lms.unimelb.edu.au/courses/124196/modules#module_662096\">CIS Academic Honesty training</a> for more information. We will be checking submissions for originality and will invoke the University’s <a href=\"http://academichonesty.unimelb.edu.au/policy.html\">Academic Misconduct policy</a> where inappropriate levels of collusion or plagiarism are deemed to have taken place.\n",
    "\n",
    "**IMPORTANT**\n",
    "\n",
    "Please carefully read and fill out the <b>Authorship Declaration</b> form at the bottom of the page. Failure to fill out this form results in the following deductions: \n",
    "<UL TYPE=”square”>\n",
    "<LI>missing Authorship Declaration at the bottom of the page, -5.0\n",
    "<LI>incomplete or unsigned Authorship Declaration at the bottom of the page, -3.0\n",
    "</UL>\n",
    "**NOTE: COMPLETE AND SUBMIT THIS FILE. YOU SHOULD IMPLEMENT FOUR FUNCTIONS AND INCLUDE YOUR ANSWERS TO THE QUESTIONS IN THIS FILE ONLY. NO OTHER SUBMISSION IS REQUIRED.**\n",
    "\n",
    "**Keep your code clean. Adding proper comments to your code is MANDATORY.**"
   ]
  },
  {
   "cell_type": "markdown",
   "metadata": {},
   "source": [
    "## Part 1: Base code [8 marks]\n",
    "\n",
    "Instructions\n",
    "1. Do **not** shuffle the data set\n",
    "2. Treat the attributes as they are(e.g., do **not** convert numeric attributes to categorical or categorical to numeric). Implement a Naive Bayes classifier with appropriate likelihood function for each attribute.\n",
    "3. You should implement the Naive Bayes classifier from scratch. Do **not** use existing implementations/learning algorithms.\n",
    "4. You CANNOT have more than one train or predict function. Both continuous numeric attributes and categorical ones should be trained in one `train()` function, similarly for the `predict()`.  \n",
    "5. Apart from the instructions in point 3, you may use libraries to help you with data reading, representation, maths or evaluation\n",
    "6. Ensure that all and only required information is printed, as indicated in the final three code cells. Failure to adhere to print the required information will result in **[-1 mark]** per case. *(We don't mind details like you print a list or several numbers -- just make sure the information is displayed so that it's easily accessible)\n",
    "7. You may change the prototypes of these functions, and you may write other functions, according to your requirements. We would appreciate it if the required functions were prominent/easy to find. \n",
    "8. You should add adequate comments to make your code easily comprehendible.*"
   ]
  },
  {
   "cell_type": "code",
   "execution_count": 1,
   "metadata": {},
   "outputs": [],
   "source": [
    "import math\n",
    "import numpy as np\n",
    "import pandas as pd\n",
    "from collections import Counter\n",
    "\n",
    "import matplotlib.pyplot as plt\n",
    "%matplotlib inline"
   ]
  },
  {
   "cell_type": "markdown",
   "metadata": {},
   "source": [
    "### Stage 1: Preprocess"
   ]
  },
  {
   "cell_type": "code",
   "execution_count": 2,
   "metadata": {},
   "outputs": [],
   "source": [
    "# Global Variables\n",
    "\n",
    "# Representing two class labels\n",
    "class1 = \" <=50K\"\n",
    "class2 = \" >50K\"\n",
    "\n",
    "# Define the proportion of training set\n",
    "train_prop = 0.9\n",
    "\n",
    "# Define the path of data file\n",
    "file_path = \"dataset/adult.csv\"\n",
    "\n",
    "# Separate nominal and numeric features\n",
    "numeric_features = ['age', 'education num', 'hours per week']\n",
    "nominal_features = ['work class', 'education', 'marital status', 'occupation', 'relationship', 'race', 'sex', 'native country (region)']\n",
    "\n",
    "# Read raw data and force all numeric features to have type of numeric\n",
    "data = pd.read_csv(file_path)\n",
    "data[numeric_features] = data[numeric_features].apply(pd.to_numeric, errors='coerce')"
   ]
  },
  {
   "cell_type": "code",
   "execution_count": 3,
   "metadata": {},
   "outputs": [],
   "source": [
    "# This function should prepare the data by reading it from a file \n",
    "# and converting it into a useful format for training and testing\n",
    "# and implement 90-10 splitting as specified in the project description.\n",
    "def preprocess(data):\n",
    "    \n",
    "    # Calculate the size of the training dataset\n",
    "    train_size = int(data.shape[0] * train_prop)\n",
    "    \n",
    "    # Implement splitting\n",
    "    X_train, X_test = data.iloc[:train_size, :-1], data.iloc[train_size:, :-1]\n",
    "    y_train, y_test = data.iloc[:train_size, -1:], data.iloc[train_size:, -1:]\n",
    "    \n",
    "    return X_train, X_test, y_train, y_test"
   ]
  },
  {
   "cell_type": "code",
   "execution_count": 4,
   "metadata": {},
   "outputs": [],
   "source": [
    "# This function splits nominal and numeric features.\n",
    "def nominal_numeric_split(data):\n",
    "    nominal = []\n",
    "    numeric = []\n",
    "    for i in range(data.shape[1]):\n",
    "        if (data.dtypes[i] == \"int64\"):\n",
    "            numeric.append(data.columns[i])\n",
    "        else:\n",
    "            nominal.append(data.columns[i])\n",
    "    return nominal, numeric"
   ]
  },
  {
   "cell_type": "markdown",
   "metadata": {},
   "source": [
    "### Stage 2: Build Naive Bayes Model"
   ]
  },
  {
   "cell_type": "markdown",
   "metadata": {},
   "source": [
    "__1. Prior Probabilities__"
   ]
  },
  {
   "cell_type": "code",
   "execution_count": 5,
   "metadata": {},
   "outputs": [],
   "source": [
    "# This function computes the log based prior probability of the given class lable.\n",
    "def prior(y_train, label):\n",
    "    num = y_train.loc[y_train[\"label\"] == label].shape[0]\n",
    "    total = y_train.shape[0]\n",
    "    return np.log(num / total)"
   ]
  },
  {
   "cell_type": "markdown",
   "metadata": {},
   "source": [
    "__2. Nominal features: Identify all the conditional probabilities P(Xi|cj)__"
   ]
  },
  {
   "cell_type": "code",
   "execution_count": 6,
   "metadata": {},
   "outputs": [],
   "source": [
    "# This function computes all log based P(Xi|cj) and store them.\n",
    "def cond_prob_table(X_train, y_train, nominal_features):\n",
    "    tables = {}\n",
    "    alpha = 1\n",
    "    for feature in nominal_features:\n",
    "        # Extract distinct values of the feature\n",
    "        distinct_values = set(X_train[feature])\n",
    "        \n",
    "        # Extract colunm of the feature with label of class1 and class2\n",
    "        class1_values = X_train[feature].loc[y_train[\"label\"] == class1]\n",
    "        class2_values = X_train[feature].loc[y_train[\"label\"] == class2]\n",
    "        \n",
    "        # Count occurances of values\n",
    "        class1_counter = Counter(class1_values)\n",
    "        class2_counter = Counter(class2_values)\n",
    "\n",
    "        # Total number of class1 and class2\n",
    "        class1_total = len(class1_values)\n",
    "        class2_total = len(class2_values)\n",
    "        \n",
    "        class1_probs = []\n",
    "        class2_probs = []\n",
    "        \n",
    "        # Compute P(Xi|c1) and P(Xi|c2) using Laplace smoothing\n",
    "        for value in distinct_values:\n",
    "            # Cardinality of feature\n",
    "            d = len(distinct_values)\n",
    "            \n",
    "            class1_prob = np.log((class1_counter[value] + alpha) / (class1_total + alpha * d))\n",
    "            class1_probs.append(class1_prob)\n",
    "\n",
    "            class2_prob = np.log((class2_counter[value] + alpha) / (class2_total + alpha * d))\n",
    "            class2_probs.append(class2_prob)\n",
    "        \n",
    "        # Store results for the feature\n",
    "        tables[feature] = pd.DataFrame([class1_probs, class2_probs], columns=distinct_values, index=[\"class1\", \"class2\"])\n",
    "    \n",
    "    return tables"
   ]
  },
  {
   "cell_type": "markdown",
   "metadata": {},
   "source": [
    "__3. Numeric features: Fit a Gaussian distribution to the conditional probability P(Xi|cj)__"
   ]
  },
  {
   "cell_type": "code",
   "execution_count": 7,
   "metadata": {},
   "outputs": [],
   "source": [
    "# This function computes means and standard deviations of all class labels \n",
    "# based on all numeric features and store them.\n",
    "def mean_std_table(X_train, y_train, numeric_features):\n",
    "    class1_means = []\n",
    "    class1_stds = []\n",
    "    class2_means = []\n",
    "    class2_stds = []\n",
    "    # Compute means and stds for each feature\n",
    "    for feature in numeric_features:\n",
    "        class1_mean, class1_std = mean_std(X_train, y_train, class1, feature)\n",
    "        class2_mean, class2_std = mean_std(X_train, y_train, class2, feature)\n",
    "        class1_means.append(class1_mean)\n",
    "        class1_stds.append(class1_std)\n",
    "        class2_means.append(class2_mean)\n",
    "        class2_stds.append(class2_std)\n",
    "    # Store into a new table\n",
    "    data = [class1_means, class1_stds, class2_means, class2_stds]\n",
    "    return pd.DataFrame(data, columns=numeric_features, index=[\"class1_mean\", \"class1_std\", \"class2_mean\", \"class2_std\"])\n",
    "\n",
    "\n",
    "# This function computes mean and standard deviation of the given class label based on a numeric feature.\n",
    "def mean_std(X_train, y_train, label, feature):\n",
    "    results = X_train[feature].loc[y_train[\"label\"] == label]\n",
    "    return np.nanmean(results), np.nanstd(results)"
   ]
  },
  {
   "cell_type": "markdown",
   "metadata": {},
   "source": [
    "__4. Train the Naive Bayes Model__"
   ]
  },
  {
   "cell_type": "code",
   "execution_count": 8,
   "metadata": {},
   "outputs": [],
   "source": [
    "# This function should calculate prior probabilities and likelihoods (conditional probabilities) \n",
    "# from the training data and using to build a naive Bayes model.\n",
    "def train(X_train, y_train, nominal_features, numeric_features):\n",
    "    \n",
    "    # Prior probablities\n",
    "    prior_prob = pd.DataFrame([prior(y_train, class1), prior(y_train, class2)], columns=[\"prior\"], index=[\"class1\", \"class2\"])\n",
    "    \n",
    "    # Identify all the conditional probabilities for nominal features\n",
    "    nominal_prob = cond_prob_table(X_train, y_train, nominal_features)\n",
    "    \n",
    "    # Fit a gaussian distribution for numeric features\n",
    "    numeric_stat = mean_std_table(X_train, y_train, numeric_features)\n",
    "    \n",
    "    return prior_prob, nominal_prob, numeric_stat"
   ]
  },
  {
   "cell_type": "markdown",
   "metadata": {},
   "source": [
    "### Stage 3: Prediction"
   ]
  },
  {
   "cell_type": "markdown",
   "metadata": {},
   "source": [
    "__Sum of P(Xi|cj) is seqarated into two parts because we have both nominal and numeric features__ "
   ]
  },
  {
   "cell_type": "code",
   "execution_count": 9,
   "metadata": {},
   "outputs": [],
   "source": [
    "# This function sums the log based likelihoods of all nominal features.\n",
    "def sum_prob_nominal(instance, nominal_features, nominal_prob):\n",
    "    class1_prob = 0;\n",
    "    class2_prob = 0;\n",
    "    \n",
    "    for feature in nominal_features:\n",
    "        value = instance[feature]\n",
    "        # If the value is not encountered in the training set, ignore it\n",
    "        if value in nominal_prob[feature].columns:\n",
    "            class1_prob += nominal_prob[feature][value]['class1']\n",
    "            class2_prob += nominal_prob[feature][value]['class2']\n",
    "        \n",
    "    return class1_prob, class2_prob"
   ]
  },
  {
   "cell_type": "code",
   "execution_count": 10,
   "metadata": {},
   "outputs": [],
   "source": [
    "# This function sums the log based pdf of all numeric features.\n",
    "def sum_prob_numeric(instance, numeric_features, numeric_stat):\n",
    "    class1_prob = 0;\n",
    "    class2_prob = 0;\n",
    "    \n",
    "    # Compute the log based pdf of each feature\n",
    "    for feature in numeric_features:\n",
    "        value = instance[feature]\n",
    "        if (not np.isnan(value)):\n",
    "            class1_pdf = pdf_gaussian(value, numeric_stat[feature]['class1_mean'], numeric_stat[feature]['class1_std'])\n",
    "            if (class1_pdf != 0):\n",
    "                class1_prob += np.log(class1_pdf)\n",
    "\n",
    "            class2_pdf = pdf_gaussian(value, numeric_stat[feature]['class2_mean'], numeric_stat[feature]['class2_std'])\n",
    "            if (class2_pdf != 0):\n",
    "                class2_prob += np.log(class2_pdf)\n",
    "                \n",
    "    return class1_prob, class2_prob\n",
    "\n",
    "\n",
    "# This function computes pdf of the given value based on gaussian distribution.\n",
    "def pdf_gaussian(x, mean, std):\n",
    "    return ( 1 / (std * math.sqrt(2 * math.pi)) ) * math.pow( math.e, -0.5 * math.pow((x - mean) / std, 2) )"
   ]
  },
  {
   "cell_type": "code",
   "execution_count": 11,
   "metadata": {},
   "outputs": [],
   "source": [
    "# This function should predict classes for new items in the testing data.\n",
    "def predict(X_test, nominal_features, nominal_prob, numeric_features, numeric_stat, prior_prob):\n",
    "    predicts = []\n",
    "    class1_posterior = []\n",
    "    class2_posterior = []\n",
    "    test_size = X_test.shape[0]\n",
    "    \n",
    "    # Perform predictions for test instances\n",
    "    for i in range(test_size):\n",
    "        instance = X_test.iloc[i]\n",
    "        class1_nominal_prob, class2_nominal_prob = sum_prob_nominal(instance, nominal_features, nominal_prob)\n",
    "        class1_numeric_prob, class2_numeric_prob = sum_prob_numeric(instance, numeric_features, numeric_stat)\n",
    "        \n",
    "        # Compute log based posterior probability for two class labels\n",
    "        class1_post_prob = prior_prob['prior']['class1'] + class1_nominal_prob + class1_numeric_prob\n",
    "        class2_post_prob = prior_prob['prior']['class2'] + class2_nominal_prob + class2_numeric_prob\n",
    "        \n",
    "        class1_posterior.append(class1_post_prob)\n",
    "        class2_posterior.append(class2_post_prob)\n",
    "        \n",
    "        # Choose the label with max probability as the predict result\n",
    "        if (class1_post_prob > class2_post_prob):\n",
    "            predicts.append(class1)\n",
    "        else:\n",
    "            predicts.append(class2)\n",
    "       \n",
    "    return predicts, class1_posterior, class2_posterior"
   ]
  },
  {
   "cell_type": "markdown",
   "metadata": {},
   "source": [
    "### Stage 4: Evaluation"
   ]
  },
  {
   "cell_type": "code",
   "execution_count": 12,
   "metadata": {},
   "outputs": [],
   "source": [
    "# This function should evaluate the prediction performance by comparing your model’s class outputs to ground\n",
    "# truth labels, return and output accuracy, confusion matrix and F1 score.\n",
    "def evaluate(predicts, y_test):\n",
    "    TP = 0\n",
    "    FP = 0\n",
    "    FN = 0\n",
    "    TN = 0\n",
    "    test_size = y_test.shape[0]\n",
    "    \n",
    "    # Count TP, FP, FN, TN\n",
    "    for i in range(test_size):\n",
    "        if (predicts[i] == class1 and y_test[\"label\"].iloc[i] == class1):\n",
    "            TP += 1\n",
    "        elif (predicts[i] == class1 and y_test[\"label\"].iloc[i] == class2):\n",
    "            FP += 1\n",
    "        elif (predicts[i] == class2 and y_test[\"label\"].iloc[i] == class1):\n",
    "            FN += 1\n",
    "        else:\n",
    "            TN += 1\n",
    "    \n",
    "    # Compute parameters\n",
    "    accuracy = (TP + TN) / (TP + FP + FN + TN)\n",
    "    precision = 0\n",
    "    recall = 0\n",
    "    f1 = 0\n",
    "    if (TP != 0):\n",
    "        precision = TP / (TP + FP)\n",
    "        recall = TP / (TP + FN)\n",
    "        f1 = 2 * precision * recall / (precision + recall)\n",
    "    \n",
    "    # Generate confusion matrix\n",
    "    confusion = [[TP, FN], [FP, TN]]\n",
    "    \n",
    "    return accuracy, confusion, f1"
   ]
  },
  {
   "cell_type": "code",
   "execution_count": 13,
   "metadata": {},
   "outputs": [],
   "source": [
    "# This function visualises the confusion matrix.\n",
    "def print_confusion_matrix(matrix):\n",
    "    print(\"Confusion Matrix: \")\n",
    "    display(pd.DataFrame(matrix, columns=[\"Positive\", \"Negative\"], index=[\"Positive\", \"Negative\"]))"
   ]
  },
  {
   "cell_type": "code",
   "execution_count": 14,
   "metadata": {
    "scrolled": false
   },
   "outputs": [
    {
     "name": "stdout",
     "output_type": "stream",
     "text": [
      "Confusion Matrix: \n"
     ]
    },
    {
     "data": {
      "text/html": [
       "<div>\n",
       "<style scoped>\n",
       "    .dataframe tbody tr th:only-of-type {\n",
       "        vertical-align: middle;\n",
       "    }\n",
       "\n",
       "    .dataframe tbody tr th {\n",
       "        vertical-align: top;\n",
       "    }\n",
       "\n",
       "    .dataframe thead th {\n",
       "        text-align: right;\n",
       "    }\n",
       "</style>\n",
       "<table border=\"1\" class=\"dataframe\">\n",
       "  <thead>\n",
       "    <tr style=\"text-align: right;\">\n",
       "      <th></th>\n",
       "      <th>Positive</th>\n",
       "      <th>Negative</th>\n",
       "    </tr>\n",
       "  </thead>\n",
       "  <tbody>\n",
       "    <tr>\n",
       "      <th>Positive</th>\n",
       "      <td>69</td>\n",
       "      <td>8</td>\n",
       "    </tr>\n",
       "    <tr>\n",
       "      <th>Negative</th>\n",
       "      <td>6</td>\n",
       "      <td>17</td>\n",
       "    </tr>\n",
       "  </tbody>\n",
       "</table>\n",
       "</div>"
      ],
      "text/plain": [
       "          Positive  Negative\n",
       "Positive        69         8\n",
       "Negative         6        17"
      ]
     },
     "metadata": {},
     "output_type": "display_data"
    },
    {
     "name": "stdout",
     "output_type": "stream",
     "text": [
      "Accuracy: 86.0%\n",
      "F1 Score: 90.79%\n",
      "\n",
      "\n",
      "Attribute vectors of instances [0, 1, 2]: \n"
     ]
    },
    {
     "data": {
      "text/html": [
       "<div>\n",
       "<style scoped>\n",
       "    .dataframe tbody tr th:only-of-type {\n",
       "        vertical-align: middle;\n",
       "    }\n",
       "\n",
       "    .dataframe tbody tr th {\n",
       "        vertical-align: top;\n",
       "    }\n",
       "\n",
       "    .dataframe thead th {\n",
       "        text-align: right;\n",
       "    }\n",
       "</style>\n",
       "<table border=\"1\" class=\"dataframe\">\n",
       "  <thead>\n",
       "    <tr style=\"text-align: right;\">\n",
       "      <th></th>\n",
       "      <th>age</th>\n",
       "      <th>work class</th>\n",
       "      <th>education</th>\n",
       "      <th>education num</th>\n",
       "      <th>marital status</th>\n",
       "      <th>occupation</th>\n",
       "      <th>relationship</th>\n",
       "      <th>race</th>\n",
       "      <th>sex</th>\n",
       "      <th>hours per week</th>\n",
       "      <th>native country (region)</th>\n",
       "    </tr>\n",
       "  </thead>\n",
       "  <tbody>\n",
       "    <tr>\n",
       "      <th>0</th>\n",
       "      <td>68</td>\n",
       "      <td>?</td>\n",
       "      <td>1st-4th</td>\n",
       "      <td>2</td>\n",
       "      <td>Divorced</td>\n",
       "      <td>?</td>\n",
       "      <td>Not-in-family</td>\n",
       "      <td>White</td>\n",
       "      <td>Female</td>\n",
       "      <td>20</td>\n",
       "      <td>United-States</td>\n",
       "    </tr>\n",
       "    <tr>\n",
       "      <th>1</th>\n",
       "      <td>39</td>\n",
       "      <td>State-gov</td>\n",
       "      <td>Bachelors</td>\n",
       "      <td>13</td>\n",
       "      <td>Never-married</td>\n",
       "      <td>Adm-clerical</td>\n",
       "      <td>Not-in-family</td>\n",
       "      <td>White</td>\n",
       "      <td>Male</td>\n",
       "      <td>40</td>\n",
       "      <td>United-States</td>\n",
       "    </tr>\n",
       "    <tr>\n",
       "      <th>2</th>\n",
       "      <td>50</td>\n",
       "      <td>Self-emp-not-inc</td>\n",
       "      <td>Bachelors</td>\n",
       "      <td>13</td>\n",
       "      <td>Married-civ-spouse</td>\n",
       "      <td>Exec-managerial</td>\n",
       "      <td>Husband</td>\n",
       "      <td>White</td>\n",
       "      <td>Male</td>\n",
       "      <td>13</td>\n",
       "      <td>United-States</td>\n",
       "    </tr>\n",
       "  </tbody>\n",
       "</table>\n",
       "</div>"
      ],
      "text/plain": [
       "   age         work class   education  education num       marital status  \\\n",
       "0   68                  ?     1st-4th              2             Divorced   \n",
       "1   39          State-gov   Bachelors             13        Never-married   \n",
       "2   50   Self-emp-not-inc   Bachelors             13   Married-civ-spouse   \n",
       "\n",
       "         occupation    relationship    race      sex  hours per week  \\\n",
       "0                 ?   Not-in-family   White   Female              20   \n",
       "1      Adm-clerical   Not-in-family   White     Male              40   \n",
       "2   Exec-managerial         Husband   White     Male              13   \n",
       "\n",
       "  native country (region)  \n",
       "0           United-States  \n",
       "1           United-States  \n",
       "2           United-States  "
      ]
     },
     "metadata": {},
     "output_type": "display_data"
    },
    {
     "name": "stdout",
     "output_type": "stream",
     "text": [
      "\n",
      "Number of instances (N):  1000\n",
      "Number of attributes (F):  11\n",
      "Number of labels (L):  2\n",
      "\n",
      "\n",
      "Predicted class probabilities for instance N-3:  <=50K: -20.77 | >50K: -19.76\n",
      "Predicted class ID for instance N-3:  >50K\n",
      "\n",
      "Predicted class probabilities for instance N-2:  <=50K: -25.31 | >50K: -22.8\n",
      "Predicted class ID for instance N-2:  >50K\n",
      "\n",
      "Predicted class probabilities for instance N-1:  <=50K: -16.93 | >50K: -16.91\n",
      "Predicted class ID for instance N-1:  >50K\n"
     ]
    }
   ],
   "source": [
    "# This cell should act as your \"main\" function where you call the above functions \n",
    "# on the full ADULT data set, and print the evaluation score. [0.33 marks]\n",
    "\n",
    "\n",
    "# First, read in the data and apply your NB model to the OBJECTIVITY data\n",
    "X_train, X_test, y_train, y_test = preprocess(data)\n",
    "prior_prob, nominal_prob, numeric_stat = train(X_train, y_train, nominal_features, numeric_features)\n",
    "predicts, posterior1, posterior2 = predict(X_test, nominal_features, nominal_prob, numeric_features, numeric_stat, prior_prob)\n",
    "\n",
    "\n",
    "# Second, print the full evaluation results from the evaluate() function\n",
    "accuracy, confusion_matrix, f1_score = evaluate(predicts, y_test)\n",
    "print_confusion_matrix(confusion_matrix)\n",
    "print(f\"Accuracy: {round(accuracy * 100, 2)}%\")\n",
    "print(f\"F1 Score: {round(f1_score * 100, 2)}%\\n\\n\")\n",
    "\n",
    "\n",
    "# Third, print data statistics and model predictions, as instructed below \n",
    "# N is the total number of instances, F the total number of attributes, L the total number of labels\n",
    "# The \"class probabilities\" may be unnormalized\n",
    "# The \"predicted class ID\" must be in range (0, L)\n",
    "\n",
    "print(\"Attribute vectors of instances [0, 1, 2]: \")\n",
    "display(data.iloc[0:3, :-1])\n",
    "\n",
    "print(\"\\nNumber of instances (N): \", len(data))\n",
    "print(\"Number of attributes (F): \", len(data.columns) - 1)\n",
    "print(\"Number of labels (L): \", len(set(data[\"label\"])))\n",
    "\n",
    "print(\"\\n\\nPredicted class probabilities for instance N-3: \", f\"<=50K: {round(posterior1[-3], 2)} | >50K: {round(posterior2[-3], 2)}\")\n",
    "print(\"Predicted class ID for instance N-3:\", predicts[-3])\n",
    "print(\"\\nPredicted class probabilities for instance N-2: \", f\"<=50K: {round(posterior1[-2], 2)} | >50K: {round(posterior2[-2], 2)}\")\n",
    "print(\"Predicted class ID for instance N-2:\", predicts[-2])\n",
    "print(\"\\nPredicted class probabilities for instance N-1: \", f\"<=50K: {round(posterior1[-1], 2)} | >50K: {round(posterior2[-1], 2)}\")\n",
    "print(\"Predicted class ID for instance N-1:\", predicts[-1])"
   ]
  },
  {
   "cell_type": "markdown",
   "metadata": {},
   "source": [
    "## Part 2: Conceptual questions [8 marks for groups of 1] / [16 marks for groups of 2]\n",
    "\n",
    "\n",
    "If you are in a group of 1, you should respond to Q1 and Q2.\n",
    "\n",
    "If you are in a group of 2, you should respond to Q1, Q2, Q3 and Q4.\n",
    "\n",
    "A response to a question should take about 100–250 words. You may need to develope codes or functions to help respond to the question here. \n",
    "\n",
    "#### NOTE: We strongly recommend <u>including figures or tables, etc.</u> to support your responses. The figures and tables inserted in Markdown cells must be reproducable by your code."
   ]
  },
  {
   "cell_type": "markdown",
   "metadata": {},
   "source": [
    "### Q1 [4 marks]\n",
    "<u>Sensitivity</u> and <u>specificity</u> are two model evaluation metrics.  A good model should have both sensitivity and specificity high. Use the $2 \\times 2$ confusion matrix returned by `evaluate()` to calculate the sensitivity and specificity. Do you see a difference between them? If so, what causes this difference? Provide suggestions to improve the model performance. "
   ]
  },
  {
   "cell_type": "code",
   "execution_count": 15,
   "metadata": {},
   "outputs": [
    {
     "data": {
      "image/png": "[encoded data removed]",
      "text/plain": [
       "<Figure size 432x288 with 1 Axes>"
      ]
     },
     "metadata": {
      "needs_background": "light"
     },
     "output_type": "display_data"
    },
    {
     "data": {
      "image/png": "[encoded data removed]",
      "text/plain": [
       "<Figure size 432x288 with 1 Axes>"
      ]
     },
     "metadata": {
      "needs_background": "light"
     },
     "output_type": "display_data"
    }
   ],
   "source": [
    "# Compute sensitivity and specificity using the confuison matrix\n",
    "TP = confusion_matrix[0][0]\n",
    "FP = confusion_matrix[1][0]\n",
    "FN = confusion_matrix[0][1]\n",
    "TN = confusion_matrix[1][1]\n",
    "\n",
    "sensitivity = TP / (TP + FN)\n",
    "specificity = TN / (TN + FP)\n",
    "\n",
    "# Plot the bar chart\n",
    "fig, ax = plt.subplots(figsize =(6, 4))\n",
    "for s in ['top', 'bottom', 'left', 'right']:\n",
    "    ax.spines[s].set_visible(False)\n",
    "\n",
    "xlabel = [\"Sensitivity\", \"Specificity\"]\n",
    "ylabel = [sensitivity, specificity]\n",
    "ax.barh(xlabel, ylabel)\n",
    "\n",
    "# Add annotation to bars\n",
    "for i in ax.patches:\n",
    "    plt.text(i.get_width(), i.get_y()+0.4, str(round((i.get_width()), 2)), fontsize=12)\n",
    "\n",
    "ax.xaxis.set_ticks_position('none')\n",
    "ax.yaxis.set_ticks_position('none')\n",
    "ax.xaxis.set_tick_params(pad = 5)\n",
    "ax.yaxis.set_tick_params(pad = 10)\n",
    "plt.title(\"Figure 1: Sensitivity & Specificity (Gaussian)\", fontsize=12)\n",
    "plt.show()\n",
    "\n",
    "\n",
    "# Plot bar chart of positive and negative cases\n",
    "fig, ax = plt.subplots(figsize =(6, 4))\n",
    "for s in ['top', 'bottom', 'left', 'right']:\n",
    "    ax.spines[s].set_visible(False)\n",
    "\n",
    "xlabel = [\"Positive (<=50K)\", \"Negative (>50K)\"]\n",
    "ylabel = [data[\"label\"].value_counts()[0], data[\"label\"].value_counts()[1]]\n",
    "ax.barh(xlabel, ylabel)\n",
    "\n",
    "# Add annotation to bars\n",
    "for i in ax.patches:\n",
    "    plt.text(i.get_width(), i.get_y()+0.4, str(round((i.get_width()), 2)), fontsize=12)\n",
    "\n",
    "ax.xaxis.set_ticks_position('none')\n",
    "ax.yaxis.set_ticks_position('none')\n",
    "ax.xaxis.set_tick_params(pad = 5)\n",
    "ax.yaxis.set_tick_params(pad = 10)\n",
    "plt.title(\"Figure 2: Number of positive and negative cases\", fontsize=12)\n",
    "plt.show()"
   ]
  },
  {
   "cell_type": "markdown",
   "metadata": {},
   "source": [
    "By definition, sensitivity is the proportion of true positive cases in the model. As figure 1 depicts, the model has a higher sensitivity, which means it is better at predicting positive instances rather than negative ones. \n",
    "\n",
    "As figure 2 shows, the distribution of positive and negative cases is hugely unbalanced. The number of positive cases is over 3 times of the negative ones. In such case, the model tends to predict more positive cases because the prior probability of positive label is much higher than negative label.  As a result, the number of TP and FP is relatively larger than TN and FN so that the proportion of TP among all positive cases (TP + FN) is greater.\n",
    "\n",
    "To improve the model performance, one of the methods is to make positive cases and negative cases distribute evenly when sampling the data so that the prior probability will not have a huge impact on predictions. Besides, stratification or vertical sampling can be applied so that training data and test data can both have the same class distribution as the whole dataset. \n",
    "\n",
    "On the other hand, Laplace smoothing is applied in the model and the choice of 𝛼 can affect the performance. In addition, if a feature value in test set is not encountered in training set, I choose to ignore it because there are many other nominal features. But there can be better ways handling these missing values to improve the performance."
   ]
  },
  {
   "cell_type": "markdown",
   "metadata": {},
   "source": [
    "### Q2 [4 marks]\n",
    "You can adopt different methods for training and/or testing, which will produce different results in model evaluation. \n",
    "\n",
    "(a) Instead of Gaussian, <u>implement KDE</u> for  $P(X_i|c_j)$ for numeric attributes $X_i$. Compare the evaluation results with Gaussian. Which one do you think is more suitable to model $P(X_i|c_j)$, Gaussian or KDE? Observe all numeric attributes and justify your answer.\n",
    "\n",
    "You can choose an arbitrary value for kernel bandwidth $\\sigma$ for KDE, but a value between 3 and 15 is recommended. You should write code to implement KDE, not call an existing function/method such as `KernelDensity` from `scikit-learn`.\n",
    "\n",
    "(b) Implement <u>10-fold and 2-fold cross-validations</u>.  \n",
    "\tObserve the evaluation results in each fold and the average accuracy, recall and specificity over all folds. \n",
    "\tComment on what is the effect by changing the values of $m$ in $m$-fold cross validation. (You can choose either Gaussian or KDE Naive Bayes.)"
   ]
  },
  {
   "cell_type": "markdown",
   "metadata": {},
   "source": [
    "__Q2(a): Implement KDE on numeric features__"
   ]
  },
  {
   "cell_type": "code",
   "execution_count": 16,
   "metadata": {},
   "outputs": [],
   "source": [
    "# Prior probablities and P(Xi|cj) for nominal features are the same as above.\n",
    "# We only need to rebuild the model for numeric features using KDE.\n",
    "\n",
    "# This function trains the Naive Bayes model using KDE.\n",
    "def train_kde(X_train, X_test, y_train, nominal_features, numeric_features, bandwidth):\n",
    "    # Prior probablities\n",
    "    prior_prob = pd.DataFrame([prior(y_train, class1), prior(y_train, class2)], columns=[\"prior\"], index=[\"class1\", \"class2\"])\n",
    "    \n",
    "    # Identify all the conditional probabilities for nominal features\n",
    "    nominal_prob = cond_prob_table(X_train, y_train, nominal_features)\n",
    "    \n",
    "    # Implement KDE for numeric features\n",
    "    numeric_stat_kde = kde_table(X_train, X_test, y_train, numeric_features, bandwidth)\n",
    "    \n",
    "    return prior_prob, nominal_prob, numeric_stat_kde\n",
    "\n",
    "\n",
    "# This function computes probabilities of test instances using KDE and store them.\n",
    "def kde_table(X_train, X_test, y_train, numeric_features, bandwidth):\n",
    "    data = []\n",
    "    for feature in numeric_features:\n",
    "        # Extract colunm of the feature with label of class1 and class2\n",
    "        class1_values = X_train[feature].loc[y_train[\"label\"] == class1]\n",
    "        class2_values = X_train[feature].loc[y_train[\"label\"] == class2]\n",
    "        \n",
    "        class1_probs = []\n",
    "        class2_probs = []\n",
    "        \n",
    "        # Compute KDE\n",
    "        for x in X_test[feature]:\n",
    "            if (not np.isnan(x)):\n",
    "                class1_probs.append(pdf_kde(x, class1_values, bandwidth))\n",
    "                class2_probs.append(pdf_kde(x, class2_values, bandwidth))\n",
    "            else:\n",
    "                class1_probs.append(0)\n",
    "                class2_probs.append(0)\n",
    "        \n",
    "        data.append(class1_probs)\n",
    "        data.append(class2_probs)\n",
    "        \n",
    "    return pd.DataFrame(data, index=index_kde(numeric_features))\n",
    "\n",
    "\n",
    "# This function computes the log based pdf using KDE.\n",
    "def pdf_kde(x, values, bandwidth):\n",
    "    sum_prob = 0\n",
    "    for xi in values:\n",
    "        if (not np.isnan(xi)):\n",
    "            sum_prob += pdf_gaussian(x, xi, bandwidth)\n",
    "\n",
    "    return np.log(sum_prob / len(values))\n",
    "\n",
    "\n",
    "# This function generates index of the KDE table based on all numeric features.\n",
    "def index_kde(numeric_features):\n",
    "    res = []\n",
    "    for feature in numeric_features:\n",
    "        res.append(\"class1_\" + feature)\n",
    "        res.append(\"class2_\" + feature)\n",
    "    return res"
   ]
  },
  {
   "cell_type": "code",
   "execution_count": 17,
   "metadata": {},
   "outputs": [],
   "source": [
    "# This function predicts based on KDE.\n",
    "def predict_kde(X_test, nominal_features, nominal_prob, numeric_features, numeric_stat_kde, prior_prob):\n",
    "    predicts = []\n",
    "    test_size = X_test.shape[0]\n",
    "    \n",
    "    # Perform predictions for test instances\n",
    "    for i in range(test_size):\n",
    "        instance = X_test.iloc[i]\n",
    "        class1_nominal_prob, class2_nominal_prob = sum_prob_nominal(instance, nominal_features, nominal_prob)\n",
    "        class1_numeric_prob, class2_numeric_prob = sum_prob_numeric_kde(i, numeric_features, numeric_stat_kde)\n",
    "        \n",
    "        # Compute log based posterior probability for two class labels\n",
    "        class1_post_prob = prior_prob['prior']['class1'] + class1_nominal_prob + class1_numeric_prob\n",
    "        class2_post_prob = prior_prob['prior']['class2'] + class2_nominal_prob + class2_numeric_prob\n",
    "        \n",
    "        # Choose the label with max probability as the predict result\n",
    "        if (class1_post_prob > class2_post_prob):\n",
    "            predicts.append(class1)\n",
    "        else:\n",
    "            predicts.append(class2)\n",
    "            \n",
    "    return predicts\n",
    "\n",
    "\n",
    "# This function sums the log based pdf of all numeric features using KDE.\n",
    "def sum_prob_numeric_kde(instance, numeric_features, numeric_stat_kde):\n",
    "    class1_prob = 0\n",
    "    class2_prob = 0\n",
    "    \n",
    "    for feature in numeric_features:\n",
    "        class1_prob += numeric_stat_kde[instance][\"class1_\" + feature]\n",
    "        class2_prob += numeric_stat_kde[instance][\"class2_\" + feature]\n",
    "    \n",
    "    return class1_prob, class2_prob"
   ]
  },
  {
   "cell_type": "code",
   "execution_count": 18,
   "metadata": {},
   "outputs": [
    {
     "data": {
      "image/png": "[encoded data removed]",
      "text/plain": [
       "<Figure size 432x288 with 1 Axes>"
      ]
     },
     "metadata": {
      "needs_background": "light"
     },
     "output_type": "display_data"
    },
    {
     "data": {
      "image/png": "[encoded data removed]",
      "text/plain": [
       "<Figure size 432x288 with 1 Axes>"
      ]
     },
     "metadata": {
      "needs_background": "light"
     },
     "output_type": "display_data"
    },
    {
     "data": {
      "image/png": "[encoded data removed]",
      "text/plain": [
       "<Figure size 432x288 with 1 Axes>"
      ]
     },
     "metadata": {
      "needs_background": "light"
     },
     "output_type": "display_data"
    },
    {
     "data": {
      "image/png": "[encoded data removed]",
      "text/plain": [
       "<Figure size 432x288 with 1 Axes>"
      ]
     },
     "metadata": {
      "needs_background": "light"
     },
     "output_type": "display_data"
    }
   ],
   "source": [
    "# This function encapsulates all steps of implementing Naive Bayes using KDE to help generate results with different bandwidths.\n",
    "def kde_nb(bandwidth, X_train, X_test, y_train, y_test, nominal_features, numeric_features):\n",
    "    prior_prob, nominal_prob, numeric_stat_kde = train_kde(X_train, X_test, y_train, nominal_features, numeric_features, bandwidth)\n",
    "    predicts_kde = predict_kde(X_test, nominal_features, nominal_prob, numeric_features, numeric_stat_kde, prior_prob)\n",
    "    return evaluate(predicts_kde, y_test)\n",
    "\n",
    "\n",
    "# Accuracy of KDE with bandwidth range from 3 to 15\n",
    "accuracy_gaussian = []\n",
    "accuracy_kde = []\n",
    "for i in range(3, 16):\n",
    "    accuracy_gaussian.append(accuracy)\n",
    "    acc, conf, f1_score = kde_nb(i, X_train, X_test, y_train, y_test, nominal_features, numeric_features)\n",
    "    accuracy_kde.append(acc)\n",
    "\n",
    "\n",
    "# Plot the chart\n",
    "plt.title('Figure 3: Accuracy of KDE with bandwidth range from 3 to 15', fontsize=11)\n",
    "plt.xlim(xmax = 16, xmin = 2)\n",
    "plt.ylim(ymax = 0.95, ymin = 0.75)\n",
    "plt.plot(range(3, 16), accuracy_kde, color=\"green\", label=\"KDE\")\n",
    "plt.plot(range(3, 16), accuracy_gaussian, color=\"red\", label=\"Gaussian\")\n",
    "plt.xlabel('Bandwidth', fontsize=11)\n",
    "plt.ylabel('Accuracy', fontsize=11)\n",
    "plt.legend()\n",
    "plt.show()\n",
    "\n",
    "\n",
    "# Distribution of age\n",
    "age_dict = Counter(data[numeric_features[0]])\n",
    "ages = list(age_dict.keys())\n",
    "cnt = list(age_dict.values())\n",
    "plt.title('Figure 4: Distribution of Age')\n",
    "plt.xlabel('Age')\n",
    "plt.ylabel('Count')\n",
    "plt.bar(ages, cnt, linewidth=0)\n",
    "plt.show()\n",
    "\n",
    "\n",
    "# Distribution of education num\n",
    "edu_dict = Counter(data[numeric_features[1]])\n",
    "edu = list(edu_dict.keys())\n",
    "cnt = list(edu_dict.values())\n",
    "plt.title('Figure 5: Distribution of Education Num')\n",
    "plt.xlabel('Education Num')\n",
    "plt.ylabel('Count')\n",
    "plt.bar(edu, cnt)\n",
    "plt.show()\n",
    "\n",
    "\n",
    "# Distribution of hours per week\n",
    "hpw_dict = Counter(data[numeric_features[2]])\n",
    "hpw = list(hpw_dict.keys())\n",
    "cnt = list(hpw_dict.values())\n",
    "plt.title('Figure 6: Distribution of Hours per Week')\n",
    "plt.xlabel('Hours per Week')\n",
    "plt.ylabel('Count')\n",
    "plt.bar(hpw, cnt)\n",
    "plt.show()"
   ]
  },
  {
   "cell_type": "markdown",
   "metadata": {
    "jupyter": {
     "outputs_hidden": true
    }
   },
   "source": [
    "As figure 3 shows, accuracy of using KDE with bandwidth range from 3 to 15 is always lower than the original one using Gaussian. The 𝛼 for Laplace smoothing is set to 1 in both implementations.  It seems that Gaussian is a better choice in this case. Gaussian normally works well if the data follows a Gaussian distribution. Figure 4, 5, 6 plot distributions of all numeric attributes. \n",
    "\n",
    "For age, the distribution skews to right so that it does not follows a Gaussian distribution. For a large dataset, it may be reasonable to assume age follows a Gaussian distribution based on central limit theorem. \n",
    "\n",
    "For education years, it can be approximately regarded as a Gaussian distribution, but KDE can be feasible as well.\n",
    "\n",
    "For work hours per week, the distribution follows a Gaussian distribution with very low variance since most people works 8 hours per day.\n",
    "\n",
    "As a result, two of all numeric attributes can be assumed to follow a Gaussian distribution. Therefore, it is reasonable that Gaussian performs slightly better than KDE for this dataset."
   ]
  },
  {
   "cell_type": "markdown",
   "metadata": {},
   "source": [
    "__Q2(b): Implement 10-fold and 2-fold cross-validations__"
   ]
  },
  {
   "cell_type": "code",
   "execution_count": 19,
   "metadata": {},
   "outputs": [],
   "source": [
    "# This functions changes the return value of the original evaluate function \n",
    "# to help observe accuracy, recall and specificity of different k-fold validations.\n",
    "def evaluate_k_fold(predicts, y_test):\n",
    "    TP = 0\n",
    "    FP = 0\n",
    "    FN = 0\n",
    "    TN = 0\n",
    "    test_size = y_test.shape[0]\n",
    "    \n",
    "    for i in range(test_size):\n",
    "        if (predicts[i] == class1 and y_test[\"label\"].iloc[i] == class1):\n",
    "            TP += 1\n",
    "        elif (predicts[i] == class1 and y_test[\"label\"].iloc[i] == class2):\n",
    "            FP += 1\n",
    "        elif (predicts[i] == class2 and y_test[\"label\"].iloc[i] == class1):\n",
    "            FN += 1\n",
    "        else:\n",
    "            TN += 1\n",
    "    \n",
    "    # Compute parameters\n",
    "    accuracy = (TP + TN) / (TP + FP + FN + TN)\n",
    "    recall = 0\n",
    "    specificity = 0\n",
    "    if (TP != 0):\n",
    "        recall = TP / (TP + FN)\n",
    "    if (TN != 0):\n",
    "        specificity = TN / (TN + FP)\n",
    "    \n",
    "    return accuracy, recall, specificity"
   ]
  },
  {
   "cell_type": "code",
   "execution_count": 20,
   "metadata": {},
   "outputs": [],
   "source": [
    "# This function encapsulates all steps of implementing Naive Bayes using Gaussian to help observing different k-fold.\n",
    "def gaussian_nb_k_fold(X_train, X_test, y_train, y_test, nominal_features, numeric_features):\n",
    "    prior_prob, nominal_prob, numeric_stat = train(X_train, y_train, nominal_features, numeric_features)\n",
    "    predicts, posterior1, posterior2 = predict(X_test, nominal_features, nominal_prob, numeric_features, numeric_stat, prior_prob)\n",
    "    return evaluate_k_fold(predicts, y_test)\n",
    "\n",
    "# This function encapsulates all steps of implementing Naive Bayes using KDE to help help observing different k-fold.\n",
    "def kde_nb_k_fold(bandwidth, X_train, X_test, y_train, y_test, nominal_features, numeric_features):\n",
    "    prior_prob, nominal_prob, numeric_stat_kde = train_kde(X_train, X_test, y_train, nominal_features, numeric_features, bandwidth)\n",
    "    predicts_kde = predict_kde(X_test, nominal_features, nominal_prob, numeric_features, numeric_stat_kde, prior_prob)\n",
    "    return evaluate_k_fold(predicts_kde, y_test)"
   ]
  },
  {
   "cell_type": "code",
   "execution_count": 21,
   "metadata": {},
   "outputs": [],
   "source": [
    "# This function performs k-fold cross validation on the dataset.\n",
    "def k_fold(k, file_path):\n",
    "  \n",
    "    # Compute the size of each segment in k-fold\n",
    "    fold_size = len(data) / k\n",
    "    \n",
    "    # Observe accuracy, recall and specificity\n",
    "    accuracy_k = []\n",
    "    recall_k = []\n",
    "    specificity_k = []\n",
    "    \n",
    "    # Start k-fold cross validation\n",
    "    for i in range(k):\n",
    "        # Separate train and test segments\n",
    "        test_fold = list( range(int(i * fold_size), int((i + 1) * fold_size)) )\n",
    "        train_fold = data.index.drop(test_fold)\n",
    "        \n",
    "        # Split features and label\n",
    "        X_train, X_test = data.iloc[train_fold, :-1], data.iloc[test_fold, :-1]\n",
    "        y_train, y_test = data.iloc[train_fold, -1:], data.iloc[test_fold, -1:]\n",
    "        \n",
    "        # Use Gaussian or KDE\n",
    "        accuracy, recall, specificity = gaussian_nb_k_fold(X_train, X_test, y_train, y_test, nominal_features, numeric_features)\n",
    "        # accuracy, recall, specificity = kde_nb_k_fold(8, X_train, X_test, y_train, y_test, nominal_features, numeric_features)\n",
    "        \n",
    "        accuracy_k.append(accuracy)\n",
    "        recall_k.append(recall)\n",
    "        specificity_k.append(specificity)\n",
    "        \n",
    "    return accuracy_k, recall_k, specificity_k"
   ]
  },
  {
   "cell_type": "code",
   "execution_count": 22,
   "metadata": {
    "scrolled": false
   },
   "outputs": [
    {
     "data": {
      "image/png": "[encoded data removed]",
      "text/plain": [
       "<Figure size 720x432 with 1 Axes>"
      ]
     },
     "metadata": {
      "needs_background": "light"
     },
     "output_type": "display_data"
    }
   ],
   "source": [
    "# Perform 10-fold and 2-fold cross validations on the dataset\n",
    "accuracy_10, recall_10, specificity_10 = k_fold(10, file_path)\n",
    "accuracy_2, recall_2, specificity_2 = k_fold(2, file_path)\n",
    "\n",
    "stat_10 = [np.mean(accuracy_10), np.mean(recall_10), np.mean(specificity_10)]\n",
    "stat_2 = [np.mean(accuracy_2), np.mean(recall_2), np.mean(specificity_2)]\n",
    "stat = [accuracy, sensitivity, specificity]\n",
    "\n",
    "# Plot the evaluation results\n",
    "barWidth = 0.25\n",
    "fig = plt.subplots(figsize =(10, 6))\n",
    "\n",
    "br1 = np.arange(len(stat_10))\n",
    "br2 = [x + barWidth for x in br1]\n",
    "br3 = [x + barWidth for x in br2]\n",
    "\n",
    "bars1 = plt.bar(br1, stat_10, color='r', width=barWidth, label='10-fold')\n",
    "bars2 = plt.bar(br2, stat_2, color='g', width=barWidth, label='2-fold')\n",
    "bars3 = plt.bar(br3, stat, color='b', width=barWidth, label='no fold')\n",
    "\n",
    "for b in bars1:\n",
    "    y = round(b.get_height(), 3)\n",
    "    plt.text(b.get_x()+0.05, y+0.01, y)\n",
    "\n",
    "for b in bars2:\n",
    "    y = round(b.get_height(), 3)\n",
    "    plt.text(b.get_x()+0.05, y+0.01, y)\n",
    "\n",
    "for b in bars3:\n",
    "    y = round(b.get_height(), 3)\n",
    "    plt.text(b.get_x()+0.05, y+0.01, y)\n",
    "\n",
    "plt.ylim(ymax = 0.95, ymin = 0.25)\n",
    "plt.xticks([r + barWidth for r in range(len(stat_10))], ['Accuracy', 'Recall', 'Specificity'], fontsize=15)\n",
    "plt.title(\"Figure 7: 10-fold & 2-fold cross validations on Gaussian Naive Bayes\", fontsize=15)\n",
    "plt.legend()\n",
    "plt.show()"
   ]
  },
  {
   "cell_type": "markdown",
   "metadata": {},
   "source": [
    "As figure 7 depicts, 10-fold has lower accuracy and recall than 2-fold while its specificity is slightly higher. Meanwhile, 10-fold and 2-fold are both lower than the original 90-10 splitting for all evaluation metrics, which indicates that the original model may not be general to other instances.\n",
    "\n",
    "As m gets larger, the performance of the model can be measured more accurately with less bias. In the meantime, the variance of metrics gets larger, and the running time becomes longer because there are more training data for each fold. Leave-one-out is the ideal way when m equals the number of instances, which costs huge amount of time in practice. \n",
    "\n",
    "In this case, 2-fold seems to work well for the dataset since its result is close to 10-fold and it is much faster. However, for small dataset like this, it is feasible to use large m to obtain more reliable measurements on the model and make improvements."
   ]
  },
  {
   "cell_type": "markdown",
   "metadata": {},
   "source": [
    "### Q3 [4 marks]\n",
    "In `train()`, you are asked to treat the missing value of nominal attributes as a new category. There is another option (as suggested in Thu lecture in week 2): <u>ignoring the missing values</u>. \n",
    "Compare the two methods in both large and small datasets. Comment and explain your observations.\n",
    "You can extract the first 50 records to construct a small dataset.Use Gaussian Naive Bayes only for this question."
   ]
  },
  {
   "cell_type": "code",
   "execution_count": 23,
   "metadata": {},
   "outputs": [],
   "source": [
    "# Write additional code here, if necessary (you may insert additional code cells)"
   ]
  },
  {
   "cell_type": "markdown",
   "metadata": {},
   "source": [
    "Provide your text answer of 150-200 words in this cell."
   ]
  },
  {
   "cell_type": "markdown",
   "metadata": {},
   "source": [
    "### Q4 [4 marks]\n",
    "In week 4, we have learned how to obtain information gain (IG) and gain ratio (GR) to choose an attribute to split a node in a decision tree. We will see how to apply them in the Naive Bayes classification.\n",
    "\n",
    "(a) Compute the GR of each attribute $X_i$, relative to the class distribution. In the Na\\\"ive Bayes classifier, remove attributes in the ascending order of GR: first, remove $P(X_i|c_j)$ such that $X_i$ has the least GR; second, remove $P(X_{i'}|c_j)$ such that $X_{i'}$ has the second least GR,......, until there is only one $X_{i*}$ with the largest GR remaining in the maximand $P(c_j) P(X_{i^*} | c_j)$. Observe the <u>change of the accuracy for both Gaussian and KDE</u> (Choose bandwidth $\\sigma=10$ for KDE).\n",
    "\n",
    "(b) Compute the IG between each pair of attributes. Describe and explain your observations. Choose an attribute and implement an estimator to predict the value of `education num`. Explain why you choose this attribute. Enumerate two other examples that an attribute can be used to estimate the other and explain the reason.  "
   ]
  },
  {
   "cell_type": "code",
   "execution_count": 24,
   "metadata": {},
   "outputs": [],
   "source": [
    "# Write additional code here, if necessary (you may insert additional code cells)"
   ]
  },
  {
   "cell_type": "markdown",
   "metadata": {},
   "source": [
    "### (a)"
   ]
  },
  {
   "cell_type": "markdown",
   "metadata": {},
   "source": [
    "Provide your text answer to **Question 4.a** of 100-150 words in this cell."
   ]
  },
  {
   "cell_type": "markdown",
   "metadata": {},
   "source": [
    "### (b)"
   ]
  },
  {
   "cell_type": "markdown",
   "metadata": {},
   "source": [
    "Provide your text answer to **Question 4.b** of 150-200 words in this cell."
   ]
  },
  {
   "cell_type": "markdown",
   "metadata": {},
   "source": [
    "<b>Authorship Declaration</b>:\n",
    "\n",
    "   (1) I certify that the program contained in this submission is completely\n",
    "   my own individual work, except where explicitly noted by comments that\n",
    "   provide details otherwise.  I understand that work that has been developed\n",
    "   by another student, or by me in collaboration with other students,\n",
    "   or by non-students as a result of request, solicitation, or payment,\n",
    "   may not be submitted for assessment in this subject.  I understand that\n",
    "   submitting for assessment work developed by or in collaboration with\n",
    "   other students or non-students constitutes Academic Misconduct, and\n",
    "   may be penalized by mark deductions, or by other penalties determined\n",
    "   via the University of Melbourne Academic Honesty Policy, as described\n",
    "   at https://academicintegrity.unimelb.edu.au.\n",
    "\n",
    "   (2) I also certify that I have not provided a copy of this work in either\n",
    "   softcopy or hardcopy or any other form to any other student, and nor will\n",
    "   I do so until after the marks are released. I understand that providing\n",
    "   my work to other students, regardless of my intention or any undertakings\n",
    "   made to me by that other student, is also Academic Misconduct.\n",
    "\n",
    "   (3) I further understand that providing a copy of the assignment\n",
    "   specification to any form of code authoring or assignment tutoring\n",
    "   service, or drawing the attention of others to such services and code\n",
    "   that may have been made available via such a service, may be regarded\n",
    "   as Student General Misconduct (interfering with the teaching activities\n",
    "   of the University and/or inciting others to commit Academic Misconduct).\n",
    "   I understand that an allegation of Student General Misconduct may arise\n",
    "   regardless of whether or not I personally make use of such solutions\n",
    "   or sought benefit from such actions.\n",
    "\n",
    "   <b>Signed by</b>: [Jiahao Chen]\n",
    "   \n",
    "   <b>Dated</b>: [4 April 2022]"
   ]
  }
 ],
 "metadata": {
  "kernelspec": {
   "display_name": "Python 3 (ipykernel)",
   "language": "python",
   "name": "python3"
  },
  "language_info": {
   "codemirror_mode": {
    "name": "ipython",
    "version": 3
   },
   "file_extension": ".py",
   "mimetype": "text/x-python",
   "name": "python",
   "nbconvert_exporter": "python",
   "pygments_lexer": "ipython3",
   "version": "3.9.7"
  }
 },
 "nbformat": 4,
 "nbformat_minor": 4
}
